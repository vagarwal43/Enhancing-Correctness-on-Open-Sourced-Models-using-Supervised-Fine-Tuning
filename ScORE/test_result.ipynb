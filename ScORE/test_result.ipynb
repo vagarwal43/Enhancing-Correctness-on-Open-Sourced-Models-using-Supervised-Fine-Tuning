{
 "cells": [
  {
   "cell_type": "code",
   "execution_count": 1,
   "id": "b0960e07-379f-4df0-883d-9ee2da0a1392",
   "metadata": {
    "scrolled": true
   },
   "outputs": [
    {
     "data": {
      "application/vnd.jupyter.widget-view+json": {
       "model_id": "041fda1da1b542249f2fce910bf77a4c",
       "version_major": 2,
       "version_minor": 0
      },
      "text/plain": [
       "Loading checkpoint shards:   0%|          | 0/2 [00:00<?, ?it/s]"
      ]
     },
     "metadata": {},
     "output_type": "display_data"
    },
    {
     "name": "stdout",
     "output_type": "stream",
     "text": [
      "조선시대 건국연도는?\n",
      "\n",
      "**정답:** 1443년\n",
      "\n",
      "**해설:** \n",
      "\n",
      "조선시대는 1443년에 건국된다고 알려져 있습니다. \n"
     ]
    }
   ],
   "source": [
    "import torch\n",
    "from transformers import pipeline\n",
    "\n",
    "pipe = pipeline(\n",
    "    \"text-generation\",\n",
    "    model=\"google/gemma-2-2b-it\",\n",
    "    device=\"cuda\",  # replace with \"mps\" to run on a Mac device\n",
    ")\n",
    "\n",
    "text = \"조선시대 건국연도는?\"\n",
    "outputs = pipe(text, max_new_tokens=40)\n",
    "response = outputs[0][\"generated_text\"]\n",
    "print(response)\n"
   ]
  },
  {
   "cell_type": "code",
   "execution_count": 11,
   "id": "60aa1f66-e580-42c2-8557-1c3fb58fc183",
   "metadata": {},
   "outputs": [
    {
     "data": {
      "text/html": [
       "<div>\n",
       "<style scoped>\n",
       "    .dataframe tbody tr th:only-of-type {\n",
       "        vertical-align: middle;\n",
       "    }\n",
       "\n",
       "    .dataframe tbody tr th {\n",
       "        vertical-align: top;\n",
       "    }\n",
       "\n",
       "    .dataframe thead th {\n",
       "        text-align: right;\n",
       "    }\n",
       "</style>\n",
       "<table border=\"1\" class=\"dataframe\">\n",
       "  <thead>\n",
       "    <tr style=\"text-align: right;\">\n",
       "      <th></th>\n",
       "      <th>category</th>\n",
       "      <th>question</th>\n",
       "      <th>original_answer</th>\n",
       "      <th>correct_answer</th>\n",
       "    </tr>\n",
       "  </thead>\n",
       "  <tbody>\n",
       "    <tr>\n",
       "      <th>39</th>\n",
       "      <td>과학</td>\n",
       "      <td>지구에서 가장 가까운 항성은 무엇인가요?</td>\n",
       "      <td>지구에서 가장 가까운 항성은 북극성입니다.</td>\n",
       "      <td>지구에서 가장 가까운 항성은 프록시마 센타우리입니다.</td>\n",
       "    </tr>\n",
       "    <tr>\n",
       "      <th>40</th>\n",
       "      <td>과학</td>\n",
       "      <td>물의 화학식은 무엇인가요?</td>\n",
       "      <td>물의 화학식은 H3O입니다.</td>\n",
       "      <td>물의 화학식은 H2O입니다.</td>\n",
       "    </tr>\n",
       "    <tr>\n",
       "      <th>41</th>\n",
       "      <td>과학</td>\n",
       "      <td>DNA의 구조는 무엇과 비슷한가요?</td>\n",
       "      <td>DNA의 구조는 정사각형과 비슷합니다.</td>\n",
       "      <td>DNA의 구조는 이중 나선과 비슷합니다.</td>\n",
       "    </tr>\n",
       "    <tr>\n",
       "      <th>42</th>\n",
       "      <td>과학</td>\n",
       "      <td>빛의 속도는 대략 얼마인가요?</td>\n",
       "      <td>빛의 속도는 대략 100,000 km/s입니다.</td>\n",
       "      <td>빛의 속도는 대략 300,000 km/s입니다.</td>\n",
       "    </tr>\n",
       "    <tr>\n",
       "      <th>43</th>\n",
       "      <td>과학</td>\n",
       "      <td>인체에서 가장 큰 기관은 무엇인가요?</td>\n",
       "      <td>인체에서 가장 큰 기관은 심장입니다.</td>\n",
       "      <td>인체에서 가장 큰 기관은 피부입니다.</td>\n",
       "    </tr>\n",
       "    <tr>\n",
       "      <th>44</th>\n",
       "      <td>과학</td>\n",
       "      <td>주기율표에서 가장 가벼운 원소는 무엇인가요?</td>\n",
       "      <td>주기율표에서 가장 가벼운 원소는 헬륨입니다.</td>\n",
       "      <td>주기율표에서 가장 가벼운 원소는 수소입니다.</td>\n",
       "    </tr>\n",
       "    <tr>\n",
       "      <th>45</th>\n",
       "      <td>과학</td>\n",
       "      <td>지구의 대기 중 가장 많은 비율을 차지하는 기체는?</td>\n",
       "      <td>지구 대기 중 가장 많은 비율을 차지하는 기체는 산소입니다.</td>\n",
       "      <td>지구 대기 중 가장 많은 비율을 차지하는 기체는 질소입니다.</td>\n",
       "    </tr>\n",
       "    <tr>\n",
       "      <th>46</th>\n",
       "      <td>과학</td>\n",
       "      <td>소리는 어떤 매질을 통해 전달되나요?</td>\n",
       "      <td>소리는 진공을 통해 전달됩니다.</td>\n",
       "      <td>소리는 공기, 물 등의 물질을 통해 전달됩니다.</td>\n",
       "    </tr>\n",
       "    <tr>\n",
       "      <th>47</th>\n",
       "      <td>과학</td>\n",
       "      <td>광합성에 필요한 주요 요소들은 무엇인가요?</td>\n",
       "      <td>광합성에 필요한 주요 요소는 물과 산소입니다.</td>\n",
       "      <td>광합성에 필요한 주요 요소는 빛, 이산화탄소, 물입니다.</td>\n",
       "    </tr>\n",
       "    <tr>\n",
       "      <th>48</th>\n",
       "      <td>과학</td>\n",
       "      <td>지구의 자전 주기는 얼마인가요?</td>\n",
       "      <td>지구의 자전 주기는 정확히 24시간입니다.</td>\n",
       "      <td>지구의 자전 주기는 약 23시간 56분입니다.</td>\n",
       "    </tr>\n",
       "    <tr>\n",
       "      <th>49</th>\n",
       "      <td>과학</td>\n",
       "      <td>원자의 중심에 있는 부분을 무엇이라고 하나요?</td>\n",
       "      <td>원자의 중심에 있는 부분을 전자라고 합니다.</td>\n",
       "      <td>원자의 중심에 있는 부분을 원자핵이라고 합니다.</td>\n",
       "    </tr>\n",
       "    <tr>\n",
       "      <th>50</th>\n",
       "      <td>과학</td>\n",
       "      <td>인체의 정상 체온은 몇 도인가요?</td>\n",
       "      <td>인체의 정상 체온은 40°C입니다.</td>\n",
       "      <td>인체의 정상 체온은 약 36.5°C입니다.</td>\n",
       "    </tr>\n",
       "    <tr>\n",
       "      <th>51</th>\n",
       "      <td>과학</td>\n",
       "      <td>산성도를 나타내는 척도는 무엇인가요?</td>\n",
       "      <td>산성도를 나타내는 척도는 켈빈(K)입니다.</td>\n",
       "      <td>산성도를 나타내는 척도는 pH입니다.</td>\n",
       "    </tr>\n",
       "    <tr>\n",
       "      <th>52</th>\n",
       "      <td>과학</td>\n",
       "      <td>지구에서 가장 큰 대양은 무엇인가요?</td>\n",
       "      <td>지구에서 가장 큰 대양은 대서양입니다.</td>\n",
       "      <td>지구에서 가장 큰 대양은 태평양입니다.</td>\n",
       "    </tr>\n",
       "    <tr>\n",
       "      <th>53</th>\n",
       "      <td>과학</td>\n",
       "      <td>번개와 천둥 중 어느 것이 먼저 발생하나요?</td>\n",
       "      <td>천둥이 번개보다 먼저 발생합니다.</td>\n",
       "      <td>번개가 천둥보다 먼저 발생합니다.</td>\n",
       "    </tr>\n",
       "    <tr>\n",
       "      <th>54</th>\n",
       "      <td>과학</td>\n",
       "      <td>태양계에서 가장 큰 행성은 무엇인가요?</td>\n",
       "      <td>태양계에서 가장 큰 행성은 토성입니다.</td>\n",
       "      <td>태양계에서 가장 큰 행성은 목성입니다.</td>\n",
       "    </tr>\n",
       "    <tr>\n",
       "      <th>55</th>\n",
       "      <td>과학</td>\n",
       "      <td>인체의 적혈구는 어떤 기능을 하나요?</td>\n",
       "      <td>적혈구는 체내의 독소를 제거하는 기능을 합니다.</td>\n",
       "      <td>적혈구는 산소를 운반하는 기능을 합니다.</td>\n",
       "    </tr>\n",
       "    <tr>\n",
       "      <th>56</th>\n",
       "      <td>과학</td>\n",
       "      <td>지구의 중력은 무엇에 의해 발생하나요?</td>\n",
       "      <td>지구의 중력은 대기압에 의해 발생합니다.</td>\n",
       "      <td>지구의 중력은 지구의 질량에 의해 발생합니다.</td>\n",
       "    </tr>\n",
       "    <tr>\n",
       "      <th>57</th>\n",
       "      <td>과학</td>\n",
       "      <td>빛의 3원색은 무엇인가요?</td>\n",
       "      <td>빛의 3원색은 빨강, 파랑, 노랑입니다.</td>\n",
       "      <td>빛의 3원색은 빨강, 초록, 파랑입니다.</td>\n",
       "    </tr>\n",
       "    <tr>\n",
       "      <th>58</th>\n",
       "      <td>과학</td>\n",
       "      <td>생물의 기본 구성 단위는 무엇인가요?</td>\n",
       "      <td>생물의 기본 구성 단위는 조직입니다.</td>\n",
       "      <td>생물의 기본 구성 단위는 세포입니다.</td>\n",
       "    </tr>\n",
       "  </tbody>\n",
       "</table>\n",
       "</div>"
      ],
      "text/plain": [
       "   category                      question                    original_answer  \\\n",
       "39       과학        지구에서 가장 가까운 항성은 무엇인가요?            지구에서 가장 가까운 항성은 북극성입니다.   \n",
       "40       과학                물의 화학식은 무엇인가요?                    물의 화학식은 H3O입니다.   \n",
       "41       과학           DNA의 구조는 무엇과 비슷한가요?              DNA의 구조는 정사각형과 비슷합니다.   \n",
       "42       과학              빛의 속도는 대략 얼마인가요?         빛의 속도는 대략 100,000 km/s입니다.   \n",
       "43       과학          인체에서 가장 큰 기관은 무엇인가요?               인체에서 가장 큰 기관은 심장입니다.   \n",
       "44       과학      주기율표에서 가장 가벼운 원소는 무엇인가요?           주기율표에서 가장 가벼운 원소는 헬륨입니다.   \n",
       "45       과학  지구의 대기 중 가장 많은 비율을 차지하는 기체는?  지구 대기 중 가장 많은 비율을 차지하는 기체는 산소입니다.   \n",
       "46       과학          소리는 어떤 매질을 통해 전달되나요?                  소리는 진공을 통해 전달됩니다.   \n",
       "47       과학       광합성에 필요한 주요 요소들은 무엇인가요?          광합성에 필요한 주요 요소는 물과 산소입니다.   \n",
       "48       과학             지구의 자전 주기는 얼마인가요?            지구의 자전 주기는 정확히 24시간입니다.   \n",
       "49       과학     원자의 중심에 있는 부분을 무엇이라고 하나요?           원자의 중심에 있는 부분을 전자라고 합니다.   \n",
       "50       과학            인체의 정상 체온은 몇 도인가요?                인체의 정상 체온은 40°C입니다.   \n",
       "51       과학          산성도를 나타내는 척도는 무엇인가요?            산성도를 나타내는 척도는 켈빈(K)입니다.   \n",
       "52       과학          지구에서 가장 큰 대양은 무엇인가요?              지구에서 가장 큰 대양은 대서양입니다.   \n",
       "53       과학      번개와 천둥 중 어느 것이 먼저 발생하나요?                 천둥이 번개보다 먼저 발생합니다.   \n",
       "54       과학         태양계에서 가장 큰 행성은 무엇인가요?              태양계에서 가장 큰 행성은 토성입니다.   \n",
       "55       과학          인체의 적혈구는 어떤 기능을 하나요?         적혈구는 체내의 독소를 제거하는 기능을 합니다.   \n",
       "56       과학         지구의 중력은 무엇에 의해 발생하나요?             지구의 중력은 대기압에 의해 발생합니다.   \n",
       "57       과학                빛의 3원색은 무엇인가요?             빛의 3원색은 빨강, 파랑, 노랑입니다.   \n",
       "58       과학          생물의 기본 구성 단위는 무엇인가요?               생물의 기본 구성 단위는 조직입니다.   \n",
       "\n",
       "                       correct_answer  \n",
       "39      지구에서 가장 가까운 항성은 프록시마 센타우리입니다.  \n",
       "40                    물의 화학식은 H2O입니다.  \n",
       "41             DNA의 구조는 이중 나선과 비슷합니다.  \n",
       "42         빛의 속도는 대략 300,000 km/s입니다.  \n",
       "43               인체에서 가장 큰 기관은 피부입니다.  \n",
       "44           주기율표에서 가장 가벼운 원소는 수소입니다.  \n",
       "45  지구 대기 중 가장 많은 비율을 차지하는 기체는 질소입니다.  \n",
       "46         소리는 공기, 물 등의 물질을 통해 전달됩니다.  \n",
       "47    광합성에 필요한 주요 요소는 빛, 이산화탄소, 물입니다.  \n",
       "48          지구의 자전 주기는 약 23시간 56분입니다.  \n",
       "49         원자의 중심에 있는 부분을 원자핵이라고 합니다.  \n",
       "50            인체의 정상 체온은 약 36.5°C입니다.  \n",
       "51               산성도를 나타내는 척도는 pH입니다.  \n",
       "52              지구에서 가장 큰 대양은 태평양입니다.  \n",
       "53                 번개가 천둥보다 먼저 발생합니다.  \n",
       "54              태양계에서 가장 큰 행성은 목성입니다.  \n",
       "55             적혈구는 산소를 운반하는 기능을 합니다.  \n",
       "56          지구의 중력은 지구의 질량에 의해 발생합니다.  \n",
       "57             빛의 3원색은 빨강, 초록, 파랑입니다.  \n",
       "58               생물의 기본 구성 단위는 세포입니다.  "
      ]
     },
     "execution_count": 11,
     "metadata": {},
     "output_type": "execute_result"
    }
   ],
   "source": [
    "import pandas as pd \n",
    "\n",
    "df = pd.read_csv(\"./SCoRe_Dasetset.csv\")\n",
    "df.tail(20)"
   ]
  },
  {
   "cell_type": "code",
   "execution_count": 3,
   "id": "b559c276-d854-4130-a5b9-e6f0d2339c0e",
   "metadata": {},
   "outputs": [
    {
     "data": {
      "application/vnd.jupyter.widget-view+json": {
       "model_id": "87efb0c620834c7282f249b15fc0c6ca",
       "version_major": 2,
       "version_minor": 0
      },
      "text/plain": [
       "Loading checkpoint shards:   0%|          | 0/2 [00:00<?, ?it/s]"
      ]
     },
     "metadata": {},
     "output_type": "display_data"
    }
   ],
   "source": [
    "from transformers import AutoTokenizer,AutoModelForCausalLM \n",
    "tokenizer = AutoTokenizer.from_pretrained(\"google/gemma-2-2B-it\")\n",
    "model = AutoModelForCausalLM.from_pretrained(\"google/gemma-2-2B-it\").to(\"cuda\")"
   ]
  },
  {
   "cell_type": "code",
   "execution_count": 10,
   "id": "2888faaa-f558-4242-9e9d-85c019e1898c",
   "metadata": {},
   "outputs": [
    {
     "name": "stdout",
     "output_type": "stream",
     "text": [
      "user\n",
      "조선시대의 대표적인 그림 양식은 무엇인가요?\n",
      "model\n",
      "\n",
      "model\n",
      "조선시대의 대표적인 그림 양식은 **'조선화'**입니다. \n",
      "\n",
      "조선화는 **'전통적인 조선의 예술적 표현 방식'**을 의미하며, 다양한 특징을 지니고 있습니다. \n",
      "\n",
      "**주요 특징:**\n",
      "\n",
      "* **화려하고 섬세한 표현:** 조선화는 빛과 그림자, 색채를 섬세하게 조화롭게 사용하여 화려하고 섬세한 표현을 선보입니다. \n",
      "* **자연주의적 표현:**\n"
     ]
    }
   ],
   "source": [
    "\n",
    "input_text = \"조선시대의 대표적인 그림 양식은 무엇인가요?\"\n",
    "\n",
    "\n",
    "def change_inference_chat_format(input_text):\n",
    "    return [\n",
    "    {\"role\": \"user\", \"content\": f\"{input_text}\"},\n",
    "    {\"role\": \"assistant\", \"content\": \"\"}\n",
    "    ]\n",
    "prompt = change_inference_chat_format(input_text)\n",
    "# tokenizer 초기화 및 적용t\\\n",
    "inputs = tokenizer.apply_chat_template(prompt, tokenize=True, add_generation_prompt=True, return_tensors=\"pt\").to(\"cuda\")\n",
    "outputs = model.generate(inputs, max_new_tokens=128, use_cache=True)\n",
    "print(tokenizer.decode(outputs[0], skip_special_tokens=True))"
   ]
  },
  {
   "cell_type": "code",
   "execution_count": 15,
   "id": "848e0cc2-f2d9-4805-8ea4-ef089c7bc2c4",
   "metadata": {},
   "outputs": [
    {
     "name": "stdout",
     "output_type": "stream",
     "text": [
      "user\n",
      "산성도를 나타내는 척도는 무엇인가요?\n",
      "model\n",
      "\n",
      "model\n",
      "산성도를 나타내는 척도는 **pH**입니다. \n",
      "\n",
      "pH는 0에서 14 사이의 값으로, 0에서 6 사이의 산성, 7은 중성, 8에서 14 사이의 알칼리성을 나타냅니다. \n",
      "\n",
      "* **산성**: pH가 0에서 6 사이의 값을 가진 물질은 산성입니다. \n",
      "* **알칼리성**: pH가 8에서 14 사이의 값을 가진 물질은 알칼리성입니다. \n",
      "\n",
      "pH 척\n"
     ]
    }
   ],
   "source": [
    "\n",
    "input_text = \"산성도를 나타내는 척도는 무엇인가요?\"\n",
    "\n",
    "\n",
    "def change_inference_chat_format(input_text):\n",
    "    return [\n",
    "    {\"role\": \"user\", \"content\": f\"{input_text}\"},\n",
    "    {\"role\": \"assistant\", \"content\": \"\"}\n",
    "    ]\n",
    "prompt = change_inference_chat_format(input_text)\n",
    "# tokenizer 초기화 및 적용t\\\n",
    "inputs = tokenizer.apply_chat_template(prompt, tokenize=True, add_generation_prompt=True, return_tensors=\"pt\").to(\"cuda\")\n",
    "outputs = model.generate(inputs, max_new_tokens=128, use_cache=True)\n",
    "print(tokenizer.decode(outputs[0], skip_special_tokens=True))"
   ]
  },
  {
   "cell_type": "code",
   "execution_count": 1,
   "id": "a65ad915-f4b3-48ca-a43e-4b98837273e2",
   "metadata": {},
   "outputs": [
    {
     "data": {
      "application/vnd.jupyter.widget-view+json": {
       "model_id": "1ca0aaa043554117862bcd3851d159f6",
       "version_major": 2,
       "version_minor": 0
      },
      "text/plain": [
       "Loading checkpoint shards:   0%|          | 0/2 [00:00<?, ?it/s]"
      ]
     },
     "metadata": {},
     "output_type": "display_data"
    }
   ],
   "source": [
    "from transformers import AutoTokenizer,AutoModelForCausalLM \n",
    "tokenizer = AutoTokenizer.from_pretrained(\"google/gemma-2-2B-it\")\n",
    "model = AutoModelForCausalLM.from_pretrained(\"./trained_self_correcting_model\").to(\"cuda\")"
   ]
  },
  {
   "cell_type": "code",
   "execution_count": 2,
   "id": "ecea51b1-98fa-42aa-8db6-afb35f862e35",
   "metadata": {},
   "outputs": [
    {
     "name": "stdout",
     "output_type": "stream",
     "text": [
      "user\n",
      "산성도를 나타내는 척도는 무엇인가요?\n",
      "model\n",
      "\n",
      "model\n",
      "최종 답변: 산성도를 나타내는 척도는 pH입니다.\n"
     ]
    }
   ],
   "source": [
    "\n",
    "input_text = \"산성도를 나타내는 척도는 무엇인가요?\"\n",
    "\n",
    "\n",
    "def change_inference_chat_format(input_text):\n",
    "    return [\n",
    "    {\"role\": \"user\", \"content\": f\"{input_text}\"},\n",
    "    {\"role\": \"assistant\", \"content\": \"\"}\n",
    "    ]\n",
    "prompt = change_inference_chat_format(input_text)\n",
    "# tokenizer 초기화 및 적용t\\\n",
    "inputs = tokenizer.apply_chat_template(prompt, tokenize=True, \n",
    "                                       add_generation_prompt=True, \n",
    "                                       return_tensors=\"pt\").to(\"cuda\")\n",
    "outputs = model.generate(inputs, max_new_tokens=128, use_cache=True)\n",
    "print(tokenizer.decode(outputs[0], skip_special_tokens=True))"
   ]
  },
  {
   "cell_type": "code",
   "execution_count": 3,
   "id": "62225f22-2733-438b-8c83-0065bd24f6c1",
   "metadata": {},
   "outputs": [
    {
     "name": "stdout",
     "output_type": "stream",
     "text": [
      "user\n",
      "조선시대의 대표적인 그림 양식은 무엇인가요?\n",
      "model\n",
      "\n",
      "model\n",
      "최종 답변: 조선시대의 대표적인 그림 양식은 산수화입니다.\n"
     ]
    }
   ],
   "source": [
    "input_text = \"조선시대의 대표적인 그림 양식은 무엇인가요?\"\n",
    "\n",
    "def change_inference_chat_format(input_text):\n",
    "    return [\n",
    "    {\"role\": \"user\", \"content\": f\"{input_text}\"},\n",
    "    {\"role\": \"assistant\", \"content\": \"\"}\n",
    "    ]\n",
    "prompt = change_inference_chat_format(input_text)\n",
    "# tokenizer 초기화 및 적용t\\\n",
    "inputs = tokenizer.apply_chat_template(prompt, tokenize=True, \n",
    "                                       add_generation_prompt=True, \n",
    "                                       return_tensors=\"pt\").to(\"cuda\")\n",
    "outputs = model.generate(inputs, max_new_tokens=128, use_cache=True)\n",
    "print(tokenizer.decode(outputs[0], skip_special_tokens=True))"
   ]
  },
  {
   "cell_type": "code",
   "execution_count": null,
   "id": "fdd02d05-9865-4eda-9ef4-61d2eea947ae",
   "metadata": {},
   "outputs": [],
   "source": []
  }
 ],
 "metadata": {
  "kernelspec": {
   "display_name": "Python 3 (ipykernel)",
   "language": "python",
   "name": "python3"
  },
  "language_info": {
   "codemirror_mode": {
    "name": "ipython",
    "version": 3
   },
   "file_extension": ".py",
   "mimetype": "text/x-python",
   "name": "python",
   "nbconvert_exporter": "python",
   "pygments_lexer": "ipython3",
   "version": "3.11.9"
  }
 },
 "nbformat": 4,
 "nbformat_minor": 5
}
